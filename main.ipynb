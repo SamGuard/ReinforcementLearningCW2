{
 "cells": [
  {
   "attachments": {},
   "cell_type": "markdown",
   "metadata": {},
   "source": [
    "# Amazing RL Agent"
   ]
  },
  {
   "cell_type": "code",
   "execution_count": null,
   "metadata": {},
   "outputs": [],
   "source": [
    "import gymnasium as gym\n",
    "import torch\n",
    "import importlib\n",
    "\n",
    "# Render screen, set to false if training\n",
    "RENDER_AGENT = True\n"
   ]
  },
  {
   "cell_type": "code",
   "execution_count": null,
   "metadata": {},
   "outputs": [],
   "source": [
    "# Test pytorch is working\n",
    "\n",
    "x = torch.rand(size=(1000,))\n",
    "x = x + 1\n",
    "\n",
    "# If you have a nvidia gpu with torch installed correctly\n",
    "# you can move the tensors to the gpu for some extra\n",
    "# speed, not necessary although.\n",
    "DEVICE = \"cuda:0\" if torch.cuda.is_available() else \"cpu\"\n",
    "print(f\"Using {DEVICE}\")\n",
    "# When creating a new tensor make sure you move it to a\n",
    "# device using .to(DEVICE), such as:\n",
    "x = x.to(DEVICE)\n",
    "# The tensor in x has been moved to the device\n"
   ]
  },
  {
   "cell_type": "code",
   "execution_count": null,
   "metadata": {},
   "outputs": [],
   "source": [
    "# Import agent\n",
    "import agents\n",
    "\n",
    "# Reload module as jupyter notebooks wont update to any changes youve made\n",
    "importlib.reload(\n",
    "    agents\n",
    ")\n",
    "agent = agents.Agent()\n"
   ]
  },
  {
   "cell_type": "code",
   "execution_count": null,
   "metadata": {},
   "outputs": [],
   "source": [
    "# Globals\n",
    "generations = 100\n",
    "seed = 27\n",
    "\n",
    "\n",
    "# Standard Agent\n",
    "env = gym.make(\"BipedalWalker-v3\", hardcore=True, render_mode=\"human\")\n",
    "observation, info = env.reset(seed=seed)\n",
    "for _ in range(generations):\n",
    "    action = agent.choose_action(\n",
    "        env.action_space, observation\n",
    "    )  # this is where you would insert your policy\n",
    "    observation, reward, terminated, truncated, info = env.step(action)\n",
    "\n",
    "    agent.update(observation, reward, terminated, truncated)\n",
    "    if terminated or truncated:\n",
    "        observation, info = env.reset(seed=seed)\n",
    "    env.render()\n",
    "\n",
    "\n",
    "# Rounding Temporal Difference Model\n",
    "state_space = env.observation_space\n",
    "action_space = env.action_space\n",
    "discrete_actions = 10  # nr possible actions\n",
    "discrete_states = 10  # nr possible states? \n",
    "\n",
    "# Create the agent\n",
    "agent_TD = agents.RoundingTDAgent(state_space, action_space, discrete_actions, discrete_states)\n",
    "\n",
    "# Start the main loop\n",
    "observation, info = env.reset(seed=seed)\n",
    "for _ in range(generations):\n",
    "    action = agent_TD.choose_action(\n",
    "        env.action_space, observation\n",
    "    )  # this is where you would insert your policy\n",
    "\n",
    "    observation, reward, terminated, truncated, info = env.step(action)\n",
    "\n",
    "    agent_TD.update(observation, reward, terminated, truncated)\n",
    "    if terminated or truncated:\n",
    "        observation, info = env.reset(seed=seed)\n",
    "    env.render()\n",
    "env.close()"
   ]
  }
 ],
 "metadata": {
  "interpreter": {
   "hash": "369f2c481f4da34e4445cda3fffd2e751bd1c4d706f27375911949ba6bb62e1c"
  },
  "kernelspec": {
   "display_name": "Python 3.10.5 64-bit",
   "language": "python",
   "name": "python3"
  },
  "language_info": {
   "codemirror_mode": {
    "name": "ipython",
    "version": 3
   },
   "file_extension": ".py",
   "mimetype": "text/x-python",
   "name": "python",
   "nbconvert_exporter": "python",
   "pygments_lexer": "ipython3",
   "version": "3.10.5"
  },
  "orig_nbformat": 4
 },
 "nbformat": 4,
 "nbformat_minor": 2
}
