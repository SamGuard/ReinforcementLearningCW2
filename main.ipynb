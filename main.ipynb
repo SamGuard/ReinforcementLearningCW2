{
 "cells": [
  {
   "cell_type": "markdown",
   "metadata": {},
   "source": [
    "# Amazing RL Agent"
   ]
  },
  {
   "cell_type": "code",
   "execution_count": 3,
   "metadata": {},
   "outputs": [],
   "source": [
    "import gymnasium as gym\n",
    "import torch\n",
    "import numpy as np\n",
    "import importlib\n",
    "\n",
    "# Render screen, set to false if training\n",
    "RENDER_AGENT = True\n"
   ]
  },
  {
   "cell_type": "code",
   "execution_count": 4,
   "metadata": {},
   "outputs": [
    {
     "name": "stdout",
     "output_type": "stream",
     "text": [
      "Using cpu\n"
     ]
    }
   ],
   "source": [
    "# Test pytorch is working\n",
    "\n",
    "x = torch.rand(size=(1000,))\n",
    "x = x + 1\n",
    "\n",
    "# If you have a nvidia gpu with torch installed correctly\n",
    "# you can move the tensors to the gpu for some extra\n",
    "# speed, not necessary although.\n",
    "DEVICE = \"cuda:0\" if torch.cuda.is_available() else \"cpu\"\n",
    "print(f\"Using {DEVICE}\")\n",
    "# When creating a new tensor make sure you move it to a\n",
    "# device using .to(DEVICE), such as:\n",
    "x = x.to(DEVICE)\n",
    "# The tensor in x has been moved to the device\n"
   ]
  },
  {
   "cell_type": "code",
   "execution_count": 15,
   "metadata": {},
   "outputs": [],
   "source": [
    "# Import agent\n",
    "import agents\n",
    "import ddpg\n",
    "\n",
    "# Reload module as jupyter notebooks wont update to any changes youve made\n",
    "importlib.reload(\n",
    "    agents,\n",
    ")\n",
    "importlib.reload(\n",
    "    agents,\n",
    ")\n",
    "#agent = agents.Agent()\n",
    "\n",
    "#agent = agents.TD3(3, 1, 2)\n",
    "agent = ddpg.DDPG(24, 4, 1)\n",
    "scores = []\n",
    "import matplotlib.pyplot as plt\n"
   ]
  },
  {
   "cell_type": "code",
   "execution_count": 17,
   "metadata": {},
   "outputs": [
    {
     "name": "stdout",
     "output_type": "stream",
     "text": [
      "Episode: 0, Reward: -112.67207373493733, Memory Size: 15473\n",
      "Episode: 1, Reward: -2058.98443467529, Memory Size: 16473\n",
      "Episode: 2, Reward: -1944.3274668604345, Memory Size: 17473\n",
      "Episode: 3, Reward: -2056.1198643865914, Memory Size: 18473\n",
      "Episode: 4, Reward: -1947.434409420088, Memory Size: 19473\n",
      "Episode: 5, Reward: -2400.510808631166, Memory Size: 20473\n",
      "Episode: 6, Reward: -2174.0262502181395, Memory Size: 21473\n",
      "Episode: 7, Reward: -1840.086769016132, Memory Size: 22473\n",
      "Episode: 8, Reward: -1779.1183784702264, Memory Size: 23473\n",
      "Episode: 9, Reward: -1680.7648531191132, Memory Size: 24473\n",
      "Episode: 10, Reward: -836.6478400326799, Memory Size: 25473\n",
      "Episode: 11, Reward: -939.4012453055379, Memory Size: 26473\n",
      "Episode: 12, Reward: -1340.6234014245922, Memory Size: 27473\n",
      "Episode: 13, Reward: -1454.2149471721884, Memory Size: 28473\n",
      "Episode: 14, Reward: -1449.4568029695736, Memory Size: 29473\n",
      "Episode: 15, Reward: -1458.6855835281108, Memory Size: 30473\n",
      "Episode: 16, Reward: -1450.3355685642587, Memory Size: 31473\n",
      "Episode: 17, Reward: -1450.679767768523, Memory Size: 32473\n",
      "Episode: 18, Reward: -1449.8536700148381, Memory Size: 33473\n"
     ]
    }
   ],
   "source": [
    "try:\n",
    "    env.close()\n",
    "except:\n",
    "    pass\n",
    "\n",
    "env = gym.make(\"BipedalWalker-v3\")# , render_mode=\"human\")\n",
    "\n",
    "observation, info = env.reset(seed=27)\n",
    "steps_per_episode = 1000 # T\n",
    "for episode in range(1000): # M\n",
    "    rewards = 0\n",
    "    step = 0\n",
    "    while(step < steps_per_episode):\n",
    "        action = agent.choose_action(observation, env.action_space)  # this is where you would insert your policy\n",
    "        \n",
    "        observation, reward, terminated, truncated, info = env.step(action)\n",
    "        \n",
    "        action = np.array(action)\n",
    "        rewards += reward\n",
    "        \n",
    "        agent.update(observation, reward, terminated, truncated)\n",
    "        if terminated or truncated:\n",
    "            observation, info = env.reset()\n",
    "\n",
    "        step += 1\n",
    "    if episode % 1 == 0:\n",
    "        print(f\"Episode: {episode}, Reward: {rewards}, Memory Size: {agent.memory.size}\")\n",
    "        plt.clf()\n",
    "        plt.plot(np.array(scores) / steps_per_episode)\n",
    "        plt.savefig(\"training.png\")\n",
    "    #env.render()\n",
    "    scores.append(rewards)\n",
    "    \n",
    "    observation, info = env.reset()\n",
    "    action = [0]\n",
    "    #control.reset()\n",
    "env.close()\n"
   ]
  },
  {
   "cell_type": "code",
   "execution_count": null,
   "metadata": {},
   "outputs": [],
   "source": [
    "torch.save(agent.actor.state_dict(), \"td3_actor.pth\")\n",
    "torch.save(agent.critic.state_dict(), \"td3_critic.pth\")"
   ]
  },
  {
   "cell_type": "code",
   "execution_count": null,
   "metadata": {},
   "outputs": [],
   "source": [
    "import matplotlib.pyplot as plt\n",
    "plt.plot([i for i in range(len(scores))], scores)\n",
    "plt.show()"
   ]
  }
 ],
 "metadata": {
  "kernelspec": {
   "display_name": "Python 3 (ipykernel)",
   "language": "python",
   "name": "python3"
  },
  "language_info": {
   "codemirror_mode": {
    "name": "ipython",
    "version": 3
   },
   "file_extension": ".py",
   "mimetype": "text/x-python",
   "name": "python",
   "nbconvert_exporter": "python",
   "pygments_lexer": "ipython3",
   "version": "3.10.6"
  }
 },
 "nbformat": 4,
 "nbformat_minor": 2
}
