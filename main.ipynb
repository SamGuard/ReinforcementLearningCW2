{
 "cells": [
  {
   "attachments": {},
   "cell_type": "markdown",
   "metadata": {},
   "source": [
    "# Amazing RL Agent"
   ]
  },
  {
   "cell_type": "code",
   "execution_count": 1,
   "metadata": {},
   "outputs": [],
   "source": [
    "import gymnasium as gym\n",
    "import torch\n",
    "import importlib\n",
    "\n",
    "# Render screen, set to false if training\n",
    "RENDER_AGENT = True\n"
   ]
  },
  {
   "cell_type": "code",
   "execution_count": 2,
   "metadata": {},
   "outputs": [
    {
     "name": "stdout",
     "output_type": "stream",
     "text": [
      "Using cpu\n"
     ]
    }
   ],
   "source": [
    "# Test pytorch is working\n",
    "\n",
    "x = torch.rand(size=(1000,))\n",
    "x = x + 1\n",
    "\n",
    "# If you have a nvidia gpu with torch installed correctly\n",
    "# you can move the tensors to the gpu for some extra\n",
    "# speed, not necessary although.\n",
    "DEVICE = \"cuda:0\" if torch.cuda.is_available() else \"cpu\"\n",
    "print(f\"Using {DEVICE}\")\n",
    "# When creating a new tensor make sure you move it to a\n",
    "# device using .to(DEVICE), such as:\n",
    "x = x.to(DEVICE)\n",
    "# The tensor in x has been moved to the device\n"
   ]
  },
  {
   "cell_type": "code",
   "execution_count": 3,
   "metadata": {},
   "outputs": [
    {
     "data": {
      "text/plain": [
       "<module 'agents' from 'c:\\\\Users\\\\oyvin\\\\Documents\\\\Personal\\\\2   Utdanning\\\\Master of Computing\\\\5   Year 4 - Final Year\\\\CM50270 Reinforcement Learning\\\\Coursework 2\\\\ReinforcementLearningCW2\\\\agents.py'>"
      ]
     },
     "execution_count": 3,
     "metadata": {},
     "output_type": "execute_result"
    }
   ],
   "source": [
    "# Import agent\n",
    "import agents\n",
    "\n",
    "# Reload module as jupyter notebooks wont update to any changes you've made\n",
    "importlib.reload(\n",
    "    agents\n",
    ")\n",
    "# agent = agents.Agent()\n"
   ]
  },
  {
   "cell_type": "code",
   "execution_count": 4,
   "metadata": {},
   "outputs": [
    {
     "name": "stdout",
     "output_type": "stream",
     "text": [
      "Episode: 0, Reward: -111.87637313708663\n",
      "Episode: 10, Reward: -97.66545783735316\n",
      "Episode: 20, Reward: -101.63031620741884\n",
      "Episode: 30, Reward: -15.021443213075349\n",
      "Episode: 40, Reward: -11.191737808316981\n",
      "Episode: 50, Reward: -10.142645941187974\n",
      "Episode: 60, Reward: -10.769599790503616\n",
      "Episode: 70, Reward: -11.185899076392287\n",
      "Episode: 80, Reward: -11.016137918402785\n",
      "Episode: 90, Reward: -11.01609969195727\n",
      "Episode: 100, Reward: -11.365368181953862\n",
      "Episode: 110, Reward: -10.69656807844841\n",
      "Episode: 120, Reward: -10.944363765011264\n",
      "Episode: 130, Reward: -11.117738275776341\n",
      "Episode: 140, Reward: -11.63384028268857\n",
      "Episode: 150, Reward: -11.098689465771152\n",
      "Episode: 160, Reward: -11.598542829285098\n",
      "Episode: 170, Reward: -5.096105240752335\n",
      "Episode: 180, Reward: -10.814948553969499\n",
      "Episode: 190, Reward: -11.347275390714442\n",
      "Episode: 200, Reward: -11.366608594348067\n",
      "Best reward: -4.430207882811661\n"
     ]
    },
    {
     "data": {
      "image/png": "[encoded data removed]",
      "text/plain": [
       "<Figure size 640x480 with 1 Axes>"
      ]
     },
     "metadata": {},
     "output_type": "display_data"
    }
   ],
   "source": [
    "# Globals\n",
    "episodes = 201\n",
    "steps_per_episode = 200\n",
    "seed = 27\n",
    "\n",
    "\n",
    "# Rounding Temporal Difference Model\n",
    "env = gym.make(\"BipedalWalker-v3\", hardcore=True, render_mode=\"human\") # 'rgb_array'\n",
    "state_space = env.observation_space\n",
    "action_space = env.action_space\n",
    "\n",
    "discrete_actions = 20 # number of possible actions\n",
    "discrete_states = 1  # 2  # number of states per dimension - performs worse with higher values\n",
    "\"\"\"\n",
    "Bipedal Environment has 24 dimensions, with values of: \n",
    "discrete_actions = 5  # 4 action spaces between (-1,1)\n",
    "discrete_states = 2\n",
    "we then have 2^24 * 5 = 268,435,456 state-action spaces \n",
    "\"\"\"\n",
    "\n",
    "agent_TD = agents.RoundingTDAgent(state_space, action_space, discrete_actions, discrete_states, DEVICE)\n",
    "reward_list = []\n",
    "best_reward = -1000\n",
    "for episode in range(episodes):\n",
    "    observation, info = env.reset(seed=seed)\n",
    "    action = agent_TD.choose_action(env.action_space, observation)\n",
    "    \n",
    "    rewards = 0\n",
    "    for _ in range(steps_per_episode):\n",
    "        observation_next, reward, terminated, truncated, info = env.step(action)\n",
    "        action_next = agent_TD.choose_action(env.action_space, observation_next)\n",
    "\n",
    "        agent_TD.update(observation, observation_next, reward, terminated, truncated)        \n",
    "\n",
    "        observation = observation_next\n",
    "        action = action_next\n",
    "        rewards += reward\n",
    "\n",
    "        if terminated or truncated:\n",
    "            break\n",
    "\n",
    "        env.render()\n",
    "    \n",
    "    if episode % 10 == 0:\n",
    "        print(f\"Episode: {episode}, Reward: {rewards}\")\n",
    "    \n",
    "    if rewards > best_reward: \n",
    "        best_reward = rewards\n",
    "    \n",
    "    reward_list.append(rewards)\n",
    "\n",
    "env.close()\n",
    "\n",
    "print(f\"Best reward: {best_reward}\")\n",
    "\n",
    "import matplotlib.pyplot as plt\n",
    "plt.plot([i for i in range(len(reward_list))], reward_list)\n",
    "plt.show()\n"
   ]
  }
 ],
 "metadata": {
  "interpreter": {
   "hash": "369f2c481f4da34e4445cda3fffd2e751bd1c4d706f27375911949ba6bb62e1c"
  },
  "kernelspec": {
   "display_name": "Python 3.10.5 64-bit",
   "language": "python",
   "name": "python3"
  },
  "language_info": {
   "codemirror_mode": {
    "name": "ipython",
    "version": 3
   },
   "file_extension": ".py",
   "mimetype": "text/x-python",
   "name": "python",
   "nbconvert_exporter": "python",
   "pygments_lexer": "ipython3",
   "version": "3.10.5"
  },
  "orig_nbformat": 4
 },
 "nbformat": 4,
 "nbformat_minor": 2
}
