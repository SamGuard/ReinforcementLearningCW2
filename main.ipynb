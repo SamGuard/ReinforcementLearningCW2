{
 "cells": [
  {
   "cell_type": "markdown",
   "metadata": {},
   "source": [
    "# Amazing RL Agent"
   ]
  },
  {
   "cell_type": "code",
   "execution_count": 1,
   "metadata": {},
   "outputs": [],
   "source": [
    "import gymnasium as gym\n",
    "import torch\n",
    "import numpy as np\n",
    "import importlib\n",
    "\n",
    "# Render screen, set to false if training\n",
    "RENDER_AGENT = True\n"
   ]
  },
  {
   "cell_type": "code",
   "execution_count": 2,
   "metadata": {},
   "outputs": [
    {
     "name": "stdout",
     "output_type": "stream",
     "text": [
      "Using cpu\n"
     ]
    }
   ],
   "source": [
    "# Test pytorch is working\n",
    "\n",
    "x = torch.rand(size=(1000,))\n",
    "x = x + 1\n",
    "\n",
    "# If you have a nvidia gpu with torch installed correctly\n",
    "# you can move the tensors to the gpu for some extra\n",
    "# speed, not necessary although.\n",
    "DEVICE = \"cuda:0\" if torch.cuda.is_available() else \"cpu\"\n",
    "print(f\"Using {DEVICE}\")\n",
    "# When creating a new tensor make sure you move it to a\n",
    "# device using .to(DEVICE), such as:\n",
    "x = x.to(DEVICE)\n",
    "# The tensor in x has been moved to the device\n"
   ]
  },
  {
   "cell_type": "code",
   "execution_count": 3,
   "metadata": {},
   "outputs": [
    {
     "data": {
      "text/plain": [
       "<module 'agents' from 'c:\\\\Users\\\\oyvin\\\\Documents\\\\Personal\\\\2   Utdanning\\\\Master of Computing\\\\5   Year 4 - Final Year\\\\CM50270 Reinforcement Learning\\\\Coursework 2\\\\ReinforcementLearningCW2\\\\agents.py'>"
      ]
     },
     "execution_count": 3,
     "metadata": {},
     "output_type": "execute_result"
    }
   ],
   "source": [
    "# Import agent\n",
    "import agents\n",
    "\n",
    "# Reload module as jupyter notebooks wont update to any changes youve made\n",
    "importlib.reload(\n",
    "    agents\n",
    ")\n",
    "#agent = agents.Agent()\n",
    "\n",
    "# 24 + 4 as the controller state is included\n",
    "# agent = agents.TD3(24, 4)"
   ]
  },
  {
   "cell_type": "code",
   "execution_count": 4,
   "metadata": {},
   "outputs": [],
   "source": [
    "# env = gym.make(\"BipedalWalker-v3\", hardcore=False) # , render_mode=\"human\"\n",
    "# observation, info = env.reset(seed=27)\n",
    "# steps_per_episode = 200 # T\n",
    "# for episode in range(1000): # M\n",
    "\n",
    "#     action = [0, 0, 0, 0]\n",
    "#     rewards = 0\n",
    "#     step = 0\n",
    "#     while(step < steps_per_episode):\n",
    "#         action = agent.choose_action(\n",
    "#             env.action_space, observation \n",
    "#         )  # this is where you would insert your policy\n",
    "#         observation, reward, terminated, truncated, info = env.step(action)\n",
    "#         rewards += reward\n",
    "        \n",
    "#         agent.update(observation, reward, terminated, truncated)\n",
    "#         if terminated or truncated:\n",
    "#             observation, info = env.reset()\n",
    "#             action = [0, 0, 0, 0]\n",
    "#         step += 1\n",
    "#         #env.render()\n",
    "#     print(episode, rewards)\n",
    "#     observation, info = env.reset()\n",
    "#     #control.reset()\n",
    "# env.close()\n"
   ]
  },
  {
   "cell_type": "code",
   "execution_count": 5,
   "metadata": {},
   "outputs": [],
   "source": [
    "# Import agent\n",
    "import agents\n",
    "\n",
    "# Reload module as jupyter notebooks wont update to any changes youve made\n",
    "importlib.reload(\n",
    "    agents\n",
    ")\n",
    "#agent = agents.Agent()\n",
    "\n",
    "# 24 + 4 as the controller state is included\n",
    "# agent = agents.TD3(2, 1)\n",
    "scores = []"
   ]
  },
  {
   "cell_type": "code",
   "execution_count": 6,
   "metadata": {},
   "outputs": [
    {
     "name": "stdout",
     "output_type": "stream",
     "text": [
      "Episode: 0, Reward: -94.1043304435586\n",
      "Episode: 10, Reward: -105.5696845893302\n",
      "Episode: 20, Reward: -105.03471482028198\n"
     ]
    },
    {
     "ename": "KeyboardInterrupt",
     "evalue": "",
     "output_type": "error",
     "traceback": [
      "\u001b[1;31m---------------------------------------------------------------------------\u001b[0m",
      "\u001b[1;31mKeyboardInterrupt\u001b[0m                         Traceback (most recent call last)",
      "Cell \u001b[1;32mIn[6], line 17\u001b[0m\n\u001b[0;32m     14\u001b[0m observation, reward, terminated, truncated, info \u001b[38;5;241m=\u001b[39m env\u001b[38;5;241m.\u001b[39mstep(action\u001b[38;5;241m.\u001b[39mnumpy())\n\u001b[0;32m     15\u001b[0m rewards \u001b[38;5;241m+\u001b[39m\u001b[38;5;241m=\u001b[39m reward\n\u001b[1;32m---> 17\u001b[0m \u001b[43magent\u001b[49m\u001b[38;5;241;43m.\u001b[39;49m\u001b[43mupdate\u001b[49m\u001b[43m(\u001b[49m\u001b[43mobservation\u001b[49m\u001b[43m,\u001b[49m\u001b[43m \u001b[49m\u001b[43mreward\u001b[49m\u001b[43m,\u001b[49m\u001b[43m \u001b[49m\u001b[43mterminated\u001b[49m\u001b[43m,\u001b[49m\u001b[43m \u001b[49m\u001b[43mtruncated\u001b[49m\u001b[43m)\u001b[49m\n\u001b[0;32m     19\u001b[0m \u001b[38;5;28;01mif\u001b[39;00m terminated \u001b[38;5;129;01mor\u001b[39;00m truncated:\n\u001b[0;32m     20\u001b[0m     \u001b[38;5;28;01mbreak\u001b[39;00m\n",
      "File \u001b[1;32mc:\\Users\\oyvin\\Documents\\Personal\\2   Utdanning\\Master of Computing\\5   Year 4 - Final Year\\CM50270 Reinforcement Learning\\Coursework 2\\ReinforcementLearningCW2\\agents.py:306\u001b[0m, in \u001b[0;36mTD3.update\u001b[1;34m(self, new_state, reward, is_terminal, is_trunc)\u001b[0m\n\u001b[0;32m    <a href='file:///c%3A/Users/oyvin/Documents/Personal/2%20%20%20Utdanning/Master%20of%20Computing/5%20%20%20Year%204%20-%20Final%20Year/CM50270%20Reinforcement%20Learning/Coursework%202/ReinforcementLearningCW2/agents.py?line=303'>304</a>\u001b[0m     terminal_mask[i] \u001b[39m=\u001b[39m \u001b[39mnot\u001b[39;00m b\u001b[39m.\u001b[39mterminal\n\u001b[0;32m    <a href='file:///c%3A/Users/oyvin/Documents/Personal/2%20%20%20Utdanning/Master%20of%20Computing/5%20%20%20Year%204%20-%20Final%20Year/CM50270%20Reinforcement%20Learning/Coursework%202/ReinforcementLearningCW2/agents.py?line=304'>305</a>\u001b[0m     rewards[i] \u001b[39m=\u001b[39m b\u001b[39m.\u001b[39mreward\n\u001b[1;32m--> <a href='file:///c%3A/Users/oyvin/Documents/Personal/2%20%20%20Utdanning/Master%20of%20Computing/5%20%20%20Year%204%20-%20Final%20Year/CM50270%20Reinforcement%20Learning/Coursework%202/ReinforcementLearningCW2/agents.py?line=305'>306</a>\u001b[0m     actions[i] \u001b[39m=\u001b[39m b\u001b[39m.\u001b[39maction\n\u001b[0;32m    <a href='file:///c%3A/Users/oyvin/Documents/Personal/2%20%20%20Utdanning/Master%20of%20Computing/5%20%20%20Year%204%20-%20Final%20Year/CM50270%20Reinforcement%20Learning/Coursework%202/ReinforcementLearningCW2/agents.py?line=307'>308</a>\u001b[0m batch_states_1 \u001b[39m=\u001b[39m batch_states_1[terminal_mask]\n\u001b[0;32m    <a href='file:///c%3A/Users/oyvin/Documents/Personal/2%20%20%20Utdanning/Master%20of%20Computing/5%20%20%20Year%204%20-%20Final%20Year/CM50270%20Reinforcement%20Learning/Coursework%202/ReinforcementLearningCW2/agents.py?line=309'>310</a>\u001b[0m target_actions \u001b[39m=\u001b[39m \u001b[39mself\u001b[39m\u001b[39m.\u001b[39mactor_target(batch_states_1)\n",
      "\u001b[1;31mKeyboardInterrupt\u001b[0m: "
     ]
    }
   ],
   "source": [
    "\n",
    "env = gym.make('BipedalWalker-v3', render_mode=\"human\")\n",
    "observation, info = env.reset(seed=27)\n",
    "\n",
    "agent = agents.TD3(24, 4, env.action_space)\n",
    "\n",
    "steps_per_episode = 999 # T\n",
    "episodes = 10000\n",
    "for episode in range(episodes): # M   \n",
    "    rewards = 0\n",
    "    step = 0\n",
    "    \n",
    "    while(step < steps_per_episode):\n",
    "        action = agent.choose_action(env.action_space, observation)\n",
    "        observation, reward, terminated, truncated, info = env.step(action.numpy())\n",
    "        rewards += reward\n",
    "        \n",
    "        agent.update(observation, reward, terminated, truncated)\n",
    "\n",
    "        if terminated or truncated:\n",
    "            break\n",
    "        \n",
    "        step += 1\n",
    "        env.render()\n",
    "    \n",
    "    if episode % 10 == 0:\n",
    "        print(f\"Episode: {episode}, Reward: {rewards}\")\n",
    "    \n",
    "    scores.append(rewards)\n",
    "    observation, info = env.reset(seed=27)\n",
    "\n",
    "env.close()"
   ]
  },
  {
   "cell_type": "code",
   "execution_count": 7,
   "metadata": {},
   "outputs": [
    {
     "data": {
      "image/png": "[encoded data removed]",
      "text/plain": [
       "<Figure size 640x480 with 1 Axes>"
      ]
     },
     "metadata": {},
     "output_type": "display_data"
    },
    {
     "ename": "",
     "evalue": "",
     "output_type": "error",
     "traceback": [
      "\u001b[1;31mThe Kernel crashed while executing code in the the current cell or a previous cell. Please review the code in the cell(s) to identify a possible cause of the failure. Click <a href='https://aka.ms/vscodeJupyterKernelCrash'>here</a> for more info. View Jupyter <a href='command:jupyter.viewOutput'>log</a> for further details."
     ]
    }
   ],
   "source": [
    "import matplotlib.pyplot as plt\n",
    "plt.plot([i for i in range(len(scores))], scores)\n",
    "plt.show()"
   ]
  },
  {
   "cell_type": "code",
   "execution_count": null,
   "metadata": {},
   "outputs": [],
   "source": []
  }
 ],
 "metadata": {
  "interpreter": {
   "hash": "369f2c481f4da34e4445cda3fffd2e751bd1c4d706f27375911949ba6bb62e1c"
  },
  "kernelspec": {
   "display_name": "Python 3.10.5 64-bit",
   "language": "python",
   "name": "python3"
  },
  "language_info": {
   "codemirror_mode": {
    "name": "ipython",
    "version": 3
   },
   "file_extension": ".py",
   "mimetype": "text/x-python",
   "name": "python",
   "nbconvert_exporter": "python",
   "pygments_lexer": "ipython3",
   "version": "3.10.5"
  }
 },
 "nbformat": 4,
 "nbformat_minor": 2
}
