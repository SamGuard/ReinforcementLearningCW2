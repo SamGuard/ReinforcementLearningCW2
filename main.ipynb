{
 "cells": [
  {
   "attachments": {},
   "cell_type": "markdown",
   "metadata": {},
   "source": [
    "# Amazing RL Agent"
   ]
  },
  {
   "cell_type": "code",
   "execution_count": null,
   "metadata": {},
   "outputs": [],
   "source": [
    "import gymnasium as gym\n",
    "import torch\n",
    "import numpy as np\n",
    "import importlib\n",
    "\n",
    "def moving_average(x, w):\n",
    "    return np.convolve(x, np.ones(w), 'same') / w"
   ]
  },
  {
   "cell_type": "code",
   "execution_count": null,
   "metadata": {},
   "outputs": [],
   "source": [
    "# Test pytorch is working\n",
    "x = torch.rand(size=(1000,))\n",
    "x = x + 1\n",
    "\n",
    "# If you have a nvidia gpu with torch installed correctly\n",
    "# you can move the tensors to the gpu for some extra\n",
    "# speed, not necessary although.\n",
    "DEVICE = \"cuda:0\" if torch.cuda.is_available() else \"cpu\"\n",
    "print(f\"Using {DEVICE}\")\n",
    "# When creating a new tensor make sure you move it to a\n",
    "# device using .to(DEVICE), such as:\n",
    "x = x.to(DEVICE)\n",
    "# The tensor in x has been moved to the device\n"
   ]
  },
  {
   "cell_type": "code",
   "execution_count": null,
   "metadata": {},
   "outputs": [],
   "source": [
    "# Import agent\n",
    "import agents\n",
    "\n",
    "# Reload module as jupyter notebooks wont update to any changes youve made\n",
    "importlib.reload(\n",
    "    agents,\n",
    ")\n",
    "\n",
    "RENDER_AGENT = None\n",
    "\n",
    "# agent = agents.TD3(24, 4, 1, noise=0.25, copy_step=3, device=DEVICE)\n",
    "agent = agents.DDPG(24, 4, 1, batch_size=32, device=DEVICE)\n",
    "scores = []\n",
    "import matplotlib.pyplot as plt\n"
   ]
  },
  {
   "cell_type": "code",
   "execution_count": null,
   "metadata": {},
   "outputs": [],
   "source": [
    "try:\n",
    "    env.close()\n",
    "except:\n",
    "    pass\n",
    "\n",
    "env = gym.make(\"BipedalWalker-v3\", hardcore=False, render_mode=RENDER_AGENT)\n",
    "plt.figure(figsize=(1600/96, 800/96), dpi=96)\n",
    "observation, info = env.reset(seed=27)\n",
    "steps_per_episode = 1600\n",
    "episodes = 250\n",
    "\n",
    "for episode in range(episodes):\n",
    "    rewards = 0\n",
    "    step = 0\n",
    "    while(step < steps_per_episode):\n",
    "        action = agent.choose_action(observation, env.action_space).cpu()\n",
    "        \n",
    "        action = np.array(action)\n",
    "        observation, reward, terminated, truncated, info = env.step(action)\n",
    "        \n",
    "        rewards += reward\n",
    "\n",
    "        reward_agent = 100 * reward if reward > 0 else reward\n",
    "        \n",
    "        agent.update(observation, reward_agent, terminated, truncated)\n",
    "        if terminated or truncated:\n",
    "            observation, info = env.reset()\n",
    "\n",
    "        step += 1\n",
    "    scores.append(rewards)\n",
    "    if episode % 1 == 0:\n",
    "        print(f\"Episode: {episode}, Reward: {rewards}, Memory Size: {agent.memory.size}\")\n",
    "\n",
    "    ma = max(scores) \n",
    "    mi = min(scores) \n",
    "    plt.clf()\n",
    "    plt.figure(figsize=(1600/96, 800/96), dpi=96)\n",
    "    plt.title(f\"Best: {ma}\")\n",
    "    plt.ylim((mi, ma))\n",
    "    plt.xlim((0, len(scores)))\n",
    "\n",
    "    plt.plot(np.array(scores), color=\"lightblue\")\n",
    "    plt.plot(moving_average(np.array(scores), 64)[:-32], color=\"blue\") \n",
    "    plt.axhline(y=0, color=\"black\", linestyle=\"-\")\n",
    "    plt.axhline(y=300, color=\"red\", linestyle=\"-\")\n",
    "    plt.savefig(\"training.png\")\n",
    "    if RENDER_AGENT != None: \n",
    "        env.render()\n",
    "    \n",
    "    observation, info = env.reset()\n",
    "env.close()\n"
   ]
  },
  {
   "cell_type": "code",
   "execution_count": null,
   "metadata": {},
   "outputs": [],
   "source": [
    "torch.save(agent.actor.state_dict(), \"modded_learning_ddpg_actor.pth\")\n",
    "torch.save(agent.critic.state_dict(), \"modded_learning_ddpg_critic.pth\")\n",
    "\n",
    "np.savetxt(\"scores.csv\", scores, delimiter=\",\")\n"
   ]
  },
  {
   "cell_type": "code",
   "execution_count": null,
   "metadata": {},
   "outputs": [],
   "source": []
  }
 ],
 "metadata": {
  "interpreter": {
   "hash": "369f2c481f4da34e4445cda3fffd2e751bd1c4d706f27375911949ba6bb62e1c"
  },
  "kernelspec": {
   "display_name": "Python 3.10.5 64-bit",
   "language": "python",
   "name": "python3"
  },
  "language_info": {
   "codemirror_mode": {
    "name": "ipython",
    "version": 3
   },
   "file_extension": ".py",
   "mimetype": "text/x-python",
   "name": "python",
   "nbconvert_exporter": "python",
   "pygments_lexer": "ipython3",
   "version": "3.9.16"
  }
 },
 "nbformat": 4,
 "nbformat_minor": 2
}
