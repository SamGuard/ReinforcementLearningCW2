{
 "cells": [
  {
   "attachments": {},
   "cell_type": "markdown",
   "metadata": {},
   "source": [
    "# Amazing RL Agent"
   ]
  },
  {
   "cell_type": "code",
   "execution_count": 1,
   "metadata": {},
   "outputs": [
    {
     "name": "stderr",
     "output_type": "stream",
     "text": [
      "c:\\Users\\Guard\\AppData\\Local\\Programs\\Python\\Python39\\lib\\site-packages\\tqdm\\auto.py:22: TqdmWarning: IProgress not found. Please update jupyter and ipywidgets. See https://ipywidgets.readthedocs.io/en/stable/user_install.html\n",
      "  from .autonotebook import tqdm as notebook_tqdm\n"
     ]
    }
   ],
   "source": [
    "import gymnasium as gym\n",
    "import torch\n",
    "import numpy as np\n",
    "import importlib\n",
    "\n",
    "def moving_average(x, w):\n",
    "    return np.convolve(x, np.ones(w), 'same') / w"
   ]
  },
  {
   "cell_type": "code",
   "execution_count": 2,
   "metadata": {},
   "outputs": [
    {
     "name": "stdout",
     "output_type": "stream",
     "text": [
      "Using cuda:0\n"
     ]
    }
   ],
   "source": [
    "# Test pytorch is working\n",
    "\n",
    "x = torch.rand(size=(1000,))\n",
    "x = x + 1\n",
    "\n",
    "# If you have a nvidia gpu with torch installed correctly\n",
    "# you can move the tensors to the gpu for some extra\n",
    "# speed, not necessary although.\n",
    "DEVICE = \"cuda:0\" if torch.cuda.is_available() else \"cpu\"\n",
    "print(f\"Using {DEVICE}\")\n",
    "# When creating a new tensor make sure you move it to a\n",
    "# device using .to(DEVICE), such as:\n",
    "x = x.to(DEVICE)\n",
    "# The tensor in x has been moved to the device\n"
   ]
  },
  {
   "cell_type": "code",
   "execution_count": 11,
   "metadata": {},
   "outputs": [],
   "source": [
    "# Import agent\n",
    "import agents\n",
    "import ddpg\n",
    "\n",
    "# Reload module as jupyter notebooks wont update to any changes youve made\n",
    "importlib.reload(\n",
    "    agents,\n",
    ")\n",
    "importlib.reload(\n",
    "    ddpg,\n",
    ")\n",
    "#agent = agents.Agent()\n",
    "\n",
    "\n",
    "RENDER_AGENT = None\n",
    "\n",
    "#agent = agents.TD3(24, 4, 1, noise=0.25, copy_step=3, device=DEVICE)\n",
    "agent = ddpg.DDPG(24, 4, 1, batch_size=32, device=DEVICE)\n",
    "scores = []\n",
    "import matplotlib.pyplot as plt\n"
   ]
  },
  {
   "cell_type": "code",
   "execution_count": 12,
   "metadata": {},
   "outputs": [
    {
     "name": "stdout",
     "output_type": "stream",
     "text": [
      "Episode: 0, Reward: -187.49583554725797, Memory Size: 1600\n"
     ]
    },
    {
     "name": "stderr",
     "output_type": "stream",
     "text": [
      "<ipython-input-12-b0c1fdba6034>:47: UserWarning: Attempting to set identical bottom == top == -187.49583554725797 results in singular transformations; automatically expanding.\n",
      "  plt.ylim((mi, ma))\n"
     ]
    },
    {
     "name": "stdout",
     "output_type": "stream",
     "text": [
      "Episode: 1, Reward: -82.0268382717042, Memory Size: 3200\n",
      "Episode: 2, Reward: -398.5422989419083, Memory Size: 4800\n",
      "Episode: 3, Reward: -85.08709299097629, Memory Size: 6400\n",
      "Episode: 4, Reward: -183.19026604667908, Memory Size: 8000\n",
      "Episode: 5, Reward: -954.5583588715284, Memory Size: 9600\n",
      "Episode: 6, Reward: -952.9704558075687, Memory Size: 11200\n",
      "Episode: 7, Reward: -1404.4507266128887, Memory Size: 12800\n",
      "Episode: 8, Reward: -2315.426510251485, Memory Size: 14400\n",
      "Episode: 9, Reward: -1635.6896739610124, Memory Size: 16000\n",
      "Episode: 10, Reward: -883.1650240992524, Memory Size: 17600\n"
     ]
    }
   ],
   "source": [
    "try:\n",
    "    env.close()\n",
    "except:\n",
    "    pass\n",
    "\n",
    "env = gym.make(\"BipedalWalker-v3\", hardcore=False, render_mode=RENDER_AGENT)\n",
    "plt.figure(figsize=(1600/96, 800/96), dpi=96)\n",
    "observation, info = env.reset(seed=27)\n",
    "steps_per_episode = 1600 # T\n",
    "for episode in range(500): # M\n",
    "    rewards = 0\n",
    "    step = 0\n",
    "    while(step < steps_per_episode):\n",
    "        action = agent.choose_action(observation, env.action_space).cpu()  # this is where you would insert your policy\n",
    "        \n",
    "        action = np.array(action)\n",
    "        observation, reward, terminated, truncated, info = env.step(action)\n",
    "        \n",
    "        rewards += reward\n",
    "\n",
    "        reward_agent = 100 * reward if reward > 0 else reward\n",
    "        \n",
    "        agent.update(observation, reward_agent, terminated, truncated)\n",
    "        if terminated or truncated:\n",
    "            observation, info = env.reset()\n",
    "\n",
    "        step += 1\n",
    "    scores.append(rewards)\n",
    "    if episode % 1 == 0:\n",
    "        print(f\"Episode: {episode}, Reward: {rewards}, Memory Size: {agent.memory.size}\")\n",
    "    \"\"\"\n",
    "    m = max(scores) / steps_per_episode\n",
    "    plt.clf()\n",
    "    plt.title(f\"Best: {m}\")\n",
    "    plt.plot(np.array(scores) / steps_per_episode)\n",
    "    plt.axhline(y=0, color=\"grey\", linestyle=\"-\")\n",
    "    plt.axhline(y=m, color=\"yellow\", linestyle=\"-\")\n",
    "    plt.axhline(y=300 / steps_per_episode, color=\"red\")\n",
    "    plt.savefig(\"training.png\")\n",
    "\"\"\"\n",
    "\n",
    "    ma = max(scores) \n",
    "    mi = min(scores) \n",
    "    plt.clf()\n",
    "    plt.figure(figsize=(1600/96, 800/96), dpi=96)\n",
    "    plt.title(f\"Best: {ma}\")\n",
    "    plt.ylim((mi, ma))\n",
    "    plt.xlim((0, len(scores)))\n",
    "\n",
    "    plt.plot(np.array(scores), color=\"lightblue\")\n",
    "    plt.plot(moving_average(np.array(scores), 64)[:-32], color=\"blue\") \n",
    "    plt.axhline(y=0, color=\"black\", linestyle=\"-\")\n",
    "    plt.axhline(y=300, color=\"red\", linestyle=\"-\")\n",
    "    plt.savefig(\"training.png\")\n",
    "    if RENDER_AGENT != None: \n",
    "        env.render()\n",
    "    \n",
    "    observation, info = env.reset()\n",
    "env.close()\n"
   ]
  },
  {
   "cell_type": "code",
   "execution_count": 72,
   "metadata": {},
   "outputs": [],
   "source": [
    "torch.save(agent.actor.state_dict(), \"modded_learning_ddpg_actor.pth\")\n",
    "torch.save(agent.critic.state_dict(), \"modded_learning_ddpg_critic.pth\")\n",
    "\n",
    "np.savetxt(\"scores.csv\", scores, delimiter=\",\")\n"
   ]
  }
 ],
 "metadata": {
  "kernelspec": {
   "display_name": "Python 3 (ipykernel)",
   "language": "python",
   "name": "python3"
  },
  "language_info": {
   "codemirror_mode": {
    "name": "ipython",
    "version": 3
   },
   "file_extension": ".py",
   "mimetype": "text/x-python",
   "name": "python",
   "nbconvert_exporter": "python",
   "pygments_lexer": "ipython3",
   "version": "3.9.0"
  }
 },
 "nbformat": 4,
 "nbformat_minor": 2
}
